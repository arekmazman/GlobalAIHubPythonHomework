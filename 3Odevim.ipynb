{
 "cells": [
  {
   "cell_type": "code",
   "execution_count": null,
   "metadata": {
    "cellView": "form",
    "id": "N4P9RH3IEwWl"
   },
   "outputs": [],
   "source": [
    "import time\n",
    "import random\n",
    "\n",
    "user_name = input(\"Please enter user name : \")\n",
    "time.sleep(1) # wait 1 second\n",
    "print(f\"Wellcome {user_name} to the game\")\n",
    "time.sleep(1) # wait 1 second\n",
    "print(\"*******************************\")\n",
    "\n",
    "def convert(word,guess):\n",
    "    for i in range(len(word)):\n",
    "        if word[i] == guess:\n",
    "            word_list[i] = guess\n",
    "        else:\n",
    "            pass\n",
    "    return \" \".join(word_list)\n",
    "\n",
    "\n",
    "words_list = [\"python\",\"programming\",\"big\",\"data\",\"analytics\",\"intelligence\"]\n",
    "\n",
    "\n",
    "count = 10 \n",
    "\n",
    "word = words_list[random.randint(0,len(words_list)-1)] \n",
    "\n",
    "\n",
    "word_list = [\"_\",]*len(word)\n",
    "\n",
    "\n",
    "while True:\n",
    "    if word == \"\".join(word_list):\n",
    "        print(\"You Won The Game!!!\")\n",
    "        break\n",
    "    guess = input(\"Please enter letter : \")\n",
    "    if len(guess) != 1:\n",
    "        print(\"Your letter invalid!!!\")\n",
    "        print(\"*******************************\")\n",
    "    else:\n",
    "        if guess in word:\n",
    "            print(convert(word,guess)) \n",
    "            print(\"*******************************\")\n",
    "\n",
    "        else:\n",
    "            if count == 0:\n",
    "                print(\"Game Over!!!\")\n",
    "                print(\"You Lost!!!\")\n",
    "                break\n",
    "            else:\n",
    "                count -= 1\n",
    "                print(\"Your guess not in the word!!\")\n",
    "                print(f\"You have {count} rights left\")\n",
    "                print(\"*******************************\")"
   ]
  }
 ],
 "metadata": {
  "kernelspec": {
   "display_name": "Python 3",
   "language": "python",
   "name": "python3"
  },
  "language_info": {
   "codemirror_mode": {
    "name": "ipython",
    "version": 3
   },
   "file_extension": ".py",
   "mimetype": "text/x-python",
   "name": "python",
   "nbconvert_exporter": "python",
   "pygments_lexer": "ipython3",
   "version": "3.7.6"
  }
 },
 "nbformat": 4,
 "nbformat_minor": 4
}
